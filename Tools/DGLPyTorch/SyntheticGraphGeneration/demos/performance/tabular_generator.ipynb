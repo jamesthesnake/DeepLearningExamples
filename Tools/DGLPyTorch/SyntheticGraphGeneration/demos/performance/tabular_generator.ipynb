{
 "cells": [
  {
   "cell_type": "raw",
   "id": "bbdcd85e",
   "metadata": {},
   "source": [
    "# Copyright 2023 NVIDIA Corporation. All Rights Reserved.\n",
    "#\n",
    "# Licensed under the Apache License, Version 2.0 (the \"License\");\n",
    "# you may not use this file except in compliance with the License.\n",
    "# You may obtain a copy of the License at\n",
    "#\n",
    "#     http://www.apache.org/licenses/LICENSE-2.0\n",
    "#\n",
    "# Unless required by applicable law or agreed to in writing, software\n",
    "# distributed under the License is distributed on an \"AS IS\" BASIS,\n",
    "# WITHOUT WARRANTIES OR CONDITIONS OF ANY KIND, either express or implied.\n",
    "# See the License for the specific language governing permissions and\n",
    "# limitations under the License.\n",
    "# =============================================================================="
   ]
  },
  {
   "cell_type": "markdown",
   "id": "99811865",
   "metadata": {},
   "source": [
    "# Tabular data generation performance demo"
   ]
  },
  {
   "cell_type": "markdown",
   "id": "f4436d03",
   "metadata": {},
   "source": [
    "## Overview\n",
    "\n",
    "In this notebbok we compare the performance (throughput) of tabular data generators presented in the SynGen tool. \n",
    "\n",
    "Available generators:\n",
    "\n",
    "1. [KDE (Kernel Density Estimation)](#1)\n",
    "1. [KDE (Kernel Density Estimation) from sklearn](#2)\n",
    "1. [Uniform](#3)\n",
    "1. [Gaussian](#4)\n",
    "1. [CTGAN](#5)"
   ]
  },
  {
   "cell_type": "markdown",
   "id": "cec05078",
   "metadata": {},
   "source": [
    "### Imports"
   ]
  },
  {
   "cell_type": "code",
   "execution_count": 1,
   "id": "5ab89412",
   "metadata": {},
   "outputs": [],
   "source": [
    "# preprocessing\n",
    "from syngen.preprocessing.datasets.ieee import IEEEPreprocessing\n",
    "\n",
    "# generators\n",
    "from syngen.generator.tabular import (\n",
    "    KDEGenerator,\n",
    "    KDEGeneratorSK,\n",
    "    UniformGenerator, \n",
    "    GaussianGenerator,  \n",
    "    CTGANGenerator,\n",
    ")\n",
    "\n",
    "# Others\n",
    "import time\n",
    "import pandas as pd\n",
    "from syngen.utils.types import MetaData"
   ]
  },
  {
   "cell_type": "markdown",
   "id": "81ec3beb",
   "metadata": {},
   "source": [
    "### Helper function"
   ]
  },
  {
   "cell_type": "code",
   "execution_count": 2,
   "id": "be4b5b7a",
   "metadata": {},
   "outputs": [],
   "source": [
    "def measure_throughput(generator, n=10, samples = 10000):\n",
    "    times = []\n",
    "    for _ in range(n):\n",
    "        start = time.perf_counter()\n",
    "        generator.sample(samples)\n",
    "        elapsed = time.perf_counter() - start\n",
    "        times.append(elapsed)\n",
    "    return int((samples * n) / sum(times))"
   ]
  },
  {
   "cell_type": "markdown",
   "id": "4db05295",
   "metadata": {},
   "source": [
    "### Load tabular features"
   ]
  },
  {
   "cell_type": "code",
   "execution_count": 3,
   "id": "d09efe1a",
   "metadata": {},
   "outputs": [],
   "source": [
    "preprocessing = IEEEPreprocessing(cached=False)"
   ]
  },
  {
   "cell_type": "code",
   "execution_count": 4,
   "id": "fd401437",
   "metadata": {},
   "outputs": [],
   "source": [
    "data = preprocessing.transform('/workspace/data/ieee-fraud/data.csv')"
   ]
  },
  {
   "cell_type": "code",
   "execution_count": 5,
   "id": "fec262e5",
   "metadata": {},
   "outputs": [],
   "source": [
    "cols_to_drop = set(['user_id', 'product_id'])\n",
    "cat_cols = set(preprocessing.graph_info[MetaData.EDGE_DATA][MetaData.CATEGORICAL_COLUMNS]) - cols_to_drop\n",
    "real = data[MetaData.EDGE_DATA][list(cat_cols)].reset_index(drop=True)"
   ]
  },
  {
   "cell_type": "code",
   "execution_count": 6,
   "id": "9968856c",
   "metadata": {},
   "outputs": [],
   "source": [
    "results_dict = {}"
   ]
  },
  {
   "cell_type": "markdown",
   "id": "c69a6885",
   "metadata": {},
   "source": [
    "<a id=\"1\"></a>\n",
    "## KDE (Kernel Density Estimation) Generator\n"
   ]
  },
  {
   "cell_type": "code",
   "execution_count": 7,
   "id": "d3a7994d",
   "metadata": {},
   "outputs": [
    {
     "name": "stdout",
     "output_type": "stream",
     "text": [
      "avg throughput: 1420600\n"
     ]
    }
   ],
   "source": [
    "kde_generator = KDEGenerator()\n",
    "kde_generator.fit(real, categorical_columns=cat_cols)\n",
    "\n",
    "kde_generator_throughput =  measure_throughput(kde_generator)\n",
    "results_dict['kde'] = kde_generator_throughput\n",
    "print(f'avg throughput: {kde_generator_throughput}')"
   ]
  },
  {
   "cell_type": "markdown",
   "id": "9548e934",
   "metadata": {},
   "source": [
    "<a id=\"2\"></a>\n",
    "## KDE (Kernel Density Estimation) Generator from sklearn"
   ]
  },
  {
   "cell_type": "code",
   "execution_count": 8,
   "id": "4678f8e6",
   "metadata": {},
   "outputs": [
    {
     "name": "stdout",
     "output_type": "stream",
     "text": [
      "avg throughput: 2640973\n"
     ]
    }
   ],
   "source": [
    "kde_sk_generator = KDEGeneratorSK()\n",
    "kde_sk_generator.fit(real, categorical_columns=cat_cols)\n",
    "\n",
    "kde_sk_generator_throughput =  measure_throughput(kde_sk_generator)\n",
    "results_dict['kde_sk'] = kde_sk_generator_throughput\n",
    "print(f'avg throughput: {kde_sk_generator_throughput}')"
   ]
  },
  {
   "cell_type": "markdown",
   "id": "9f76d797",
   "metadata": {},
   "source": [
    "<a id=\"3\"></a>\n",
    "## Uniform Generator"
   ]
  },
  {
   "cell_type": "code",
   "execution_count": 9,
   "id": "7ba982e7",
   "metadata": {},
   "outputs": [
    {
     "name": "stdout",
     "output_type": "stream",
     "text": [
      "avg throughput: 1768136\n"
     ]
    }
   ],
   "source": [
    "uniform_generator = UniformGenerator()\n",
    "uniform_generator.fit(real, categorical_columns=cat_cols)\n",
    "\n",
    "uniform_generator_throughput =  measure_throughput(uniform_generator)\n",
    "results_dict['uniform'] = uniform_generator_throughput\n",
    "print(f'avg throughput: {uniform_generator_throughput}')"
   ]
  },
  {
   "cell_type": "markdown",
   "id": "3ccccb76",
   "metadata": {},
   "source": [
    "<a id=\"4\"></a>\n",
    "## Gaussian Generator"
   ]
  },
  {
   "cell_type": "code",
   "execution_count": 10,
   "id": "fc461ba3",
   "metadata": {},
   "outputs": [
    {
     "name": "stdout",
     "output_type": "stream",
     "text": [
      "avg throughput: 1509729\n"
     ]
    }
   ],
   "source": [
    "gaussian_generator = GaussianGenerator()\n",
    "gaussian_generator.fit(real, categorical_columns=cat_cols)\n",
    "\n",
    "gaussian_generator_throughput =  measure_throughput(gaussian_generator)\n",
    "results_dict['gaussian'] = gaussian_generator_throughput\n",
    "print(f'avg throughput: {gaussian_generator_throughput}')"
   ]
  },
  {
   "cell_type": "markdown",
   "id": "76cfb4c4",
   "metadata": {},
   "source": [
    "<a id=\"5\"></a>\n",
    "## CTGAN Generator"
   ]
  },
  {
   "cell_type": "code",
   "execution_count": 11,
   "id": "a650784f",
   "metadata": {},
   "outputs": [
    {
     "name": "stdout",
     "output_type": "stream",
     "text": [
      "INFO:syngen.generator.tabular.ctgan:Epoch 1, Loss G:  0.4207, Loss D: -0.0177\n",
      "avg throughput: 33202\n"
     ]
    }
   ],
   "source": [
    "ctgan_generator = CTGANGenerator(epochs=1, batch_size=2000, verbose=True)\n",
    "ctgan_generator.fit(real, categorical_columns=cat_cols)\n",
    "\n",
    "ctgan_generator_throughput =  measure_throughput(ctgan_generator)\n",
    "results_dict['ctgan'] = ctgan_generator_throughput\n",
    "print(f'avg throughput: {ctgan_generator_throughput}')"
   ]
  },
  {
   "cell_type": "markdown",
   "id": "2ee4678f",
   "metadata": {},
   "source": [
    "## Results"
   ]
  },
  {
   "cell_type": "code",
   "execution_count": 12,
   "id": "68bc5f55",
   "metadata": {},
   "outputs": [
    {
     "data": {
      "text/html": [
       "<div>\n",
       "<style scoped>\n",
       "    .dataframe tbody tr th:only-of-type {\n",
       "        vertical-align: middle;\n",
       "    }\n",
       "\n",
       "    .dataframe tbody tr th {\n",
       "        vertical-align: top;\n",
       "    }\n",
       "\n",
       "    .dataframe thead th {\n",
       "        text-align: right;\n",
       "    }\n",
       "</style>\n",
       "<table border=\"1\" class=\"dataframe\">\n",
       "  <thead>\n",
       "    <tr style=\"text-align: right;\">\n",
       "      <th></th>\n",
       "      <th>kde</th>\n",
       "      <th>kde_sk</th>\n",
       "      <th>uniform</th>\n",
       "      <th>gaussian</th>\n",
       "      <th>ctgan</th>\n",
       "    </tr>\n",
       "  </thead>\n",
       "  <tbody>\n",
       "    <tr>\n",
       "      <th>ieee</th>\n",
       "      <td>1420600</td>\n",
       "      <td>2640973</td>\n",
       "      <td>1768136</td>\n",
       "      <td>1509729</td>\n",
       "      <td>33202</td>\n",
       "    </tr>\n",
       "  </tbody>\n",
       "</table>\n",
       "</div>"
      ],
      "text/plain": [
       "          kde   kde_sk  uniform  gaussian  ctgan\n",
       "ieee  1420600  2640973  1768136   1509729  33202"
      ]
     },
     "execution_count": 12,
     "metadata": {},
     "output_type": "execute_result"
    }
   ],
   "source": [
    "pd.DataFrame(results_dict, index=['ieee'])"
   ]
  },
  {
   "cell_type": "code",
   "execution_count": null,
   "id": "2d6da47b",
   "metadata": {},
   "outputs": [],
   "source": []
  }
 ],
 "metadata": {
  "kernelspec": {
   "display_name": "Python 3 (ipykernel)",
   "language": "python",
   "name": "python3"
  },
  "language_info": {
   "codemirror_mode": {
    "name": "ipython",
    "version": 3
   },
   "file_extension": ".py",
   "mimetype": "text/x-python",
   "name": "python",
   "nbconvert_exporter": "python",
   "pygments_lexer": "ipython3",
   "version": "3.8.15"
  }
 },
 "nbformat": 4,
 "nbformat_minor": 5
}
